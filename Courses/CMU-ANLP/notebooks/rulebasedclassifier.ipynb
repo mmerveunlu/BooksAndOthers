{
 "cells": [
  {
   "cell_type": "markdown",
   "metadata": {},
   "source": [
    "# CMU Advanced NLP 2022 : Introduction to NLP \n",
    "\n",
    "This notebook contains example codes from [anlp-codes](https://github.com/neubig/anlp-code/blob/main/01-rulebasedclassifier/rulebasedclassifier.ipynb). After downloading the original rule-based model, I next play around and try several simple modifications. First, I start with an analysis on data and visualize several properties to better understand it. Then in Methods section, I run the baseline model and my modifications to it. The notebook only contains simple rule-based model, not fancy deep learning models. \n",
    "\n",
    "\n",
    "## Section 1: Understanding the data \n",
    "\n",
    "\n",
    "The data is from [anlp-code/data](https://github.com/neubig/anlp-code/tree/main/data/sst-sentiment-text-threeclass).  Let's explore it."
   ]
  },
  {
   "cell_type": "code",
   "execution_count": 52,
   "metadata": {},
   "outputs": [],
   "source": [
    "import pandas as pd"
   ]
  },
  {
   "cell_type": "code",
   "execution_count": 53,
   "metadata": {},
   "outputs": [],
   "source": [
    "# This function is from anlp-codes. \n",
    "def read_XY_data(filename):\n",
    "    X_data = []\n",
    "    Y_data = []\n",
    "    with open(filename, 'r') as f:\n",
    "        for line in f:\n",
    "            label, text = line.strip().split(' ||| ')\n",
    "            X_data.append(text)\n",
    "            Y_data.append(int(label))\n",
    "    return X_data, Y_data"
   ]
  },
  {
   "cell_type": "markdown",
   "metadata": {},
   "source": [
    "For now, I only look the training and dev data. Test data is secret, we can't explore it. \n",
    "\n",
    "For better visualization and exploration, I will transform these two sets into pandas DataFrame."
   ]
  },
  {
   "cell_type": "code",
   "execution_count": 54,
   "metadata": {},
   "outputs": [],
   "source": [
    "X_train, Y_train = read_XY_data('data/sst-sentiment-text-threeclass/train.txt')\n",
    "X_test, Y_test = read_XY_data('data/sst-sentiment-text-threeclass/dev.txt')"
   ]
  },
  {
   "cell_type": "code",
   "execution_count": 70,
   "metadata": {},
   "outputs": [
    {
     "data": {
      "text/html": [
       "<div>\n",
       "<style scoped>\n",
       "    .dataframe tbody tr th:only-of-type {\n",
       "        vertical-align: middle;\n",
       "    }\n",
       "\n",
       "    .dataframe tbody tr th {\n",
       "        vertical-align: top;\n",
       "    }\n",
       "\n",
       "    .dataframe thead th {\n",
       "        text-align: right;\n",
       "    }\n",
       "</style>\n",
       "<table border=\"1\" class=\"dataframe\">\n",
       "  <thead>\n",
       "    <tr style=\"text-align: right;\">\n",
       "      <th></th>\n",
       "      <th>Review</th>\n",
       "      <th>Label</th>\n",
       "    </tr>\n",
       "  </thead>\n",
       "  <tbody>\n",
       "    <tr>\n",
       "      <th>0</th>\n",
       "      <td>The Rock is destined to be the 21st Century 's...</td>\n",
       "      <td>1</td>\n",
       "    </tr>\n",
       "    <tr>\n",
       "      <th>1</th>\n",
       "      <td>The gorgeously elaborate continuation of `` Th...</td>\n",
       "      <td>1</td>\n",
       "    </tr>\n",
       "    <tr>\n",
       "      <th>2</th>\n",
       "      <td>Singer\\/composer Bryan Adams contributes a sle...</td>\n",
       "      <td>1</td>\n",
       "    </tr>\n",
       "    <tr>\n",
       "      <th>3</th>\n",
       "      <td>You 'd think by now America would have had eno...</td>\n",
       "      <td>0</td>\n",
       "    </tr>\n",
       "    <tr>\n",
       "      <th>4</th>\n",
       "      <td>Yet the act is still charming here .</td>\n",
       "      <td>1</td>\n",
       "    </tr>\n",
       "  </tbody>\n",
       "</table>\n",
       "</div>"
      ],
      "text/plain": [
       "                                              Review  Label\n",
       "0  The Rock is destined to be the 21st Century 's...      1\n",
       "1  The gorgeously elaborate continuation of `` Th...      1\n",
       "2  Singer\\/composer Bryan Adams contributes a sle...      1\n",
       "3  You 'd think by now America would have had eno...      0\n",
       "4               Yet the act is still charming here .      1"
      ]
     },
     "execution_count": 70,
     "metadata": {},
     "output_type": "execute_result"
    }
   ],
   "source": [
    "df = pd.DataFrame(list(zip(X_train + X_test, Y_train + Y_test)),\n",
    "               columns =['Review', 'Label'])\n",
    "df.head(5)"
   ]
  },
  {
   "cell_type": "code",
   "execution_count": 56,
   "metadata": {},
   "outputs": [
    {
     "name": "stdout",
     "output_type": "stream",
     "text": [
      "There are 9645 examples with 2 columns\n"
     ]
    }
   ],
   "source": [
    "print(\"There are %d examples with %d columns\"%(df.shape[0], df.shape[1]))"
   ]
  },
  {
   "cell_type": "markdown",
   "metadata": {},
   "source": [
    "Now, I try to answer several questions related to the training set. \n",
    "\n",
    "1. What is the distribution of the classes? \n",
    "2. What is the length (nbr of words) of the reviews by each classes? \n",
    "3. What is the most frequent adjectives in the reviews by the classes?\n",
    "4. What is the most frequent names in the reviews by the classes?"
   ]
  },
  {
   "cell_type": "code",
   "execution_count": 57,
   "metadata": {},
   "outputs": [],
   "source": [
    "import seaborn as sns \n",
    "import matplotlib.pyplot as plt"
   ]
  },
  {
   "cell_type": "code",
   "execution_count": 71,
   "metadata": {},
   "outputs": [
    {
     "data": {
      "image/png": "[encoded data removed]",
      "text/plain": [
       "<Figure size 432x288 with 1 Axes>"
      ]
     },
     "metadata": {},
     "output_type": "display_data"
    }
   ],
   "source": [
    "# 1. What is the distribution of the classes?\n",
    "label_counts = df.Label.value_counts()\n",
    "colors = sns.color_palette('pastel')[0:3]\n",
    "\n",
    "#create pie chart\n",
    "plt.pie(label_counts, labels = [\"1\",\"-1\",\"0\"], colors = colors, autopct='%.0f%%')\n",
    "plt.show()"
   ]
  },
  {
   "cell_type": "markdown",
   "metadata": {},
   "source": [
    "The distribution of the classes in the set is not homogeneous. The reviews from neutral class (0) is fewer than others(1,-1). "
   ]
  },
  {
   "cell_type": "code",
   "execution_count": 72,
   "metadata": {},
   "outputs": [
    {
     "data": {
      "text/html": [
       "<div>\n",
       "<style scoped>\n",
       "    .dataframe tbody tr th:only-of-type {\n",
       "        vertical-align: middle;\n",
       "    }\n",
       "\n",
       "    .dataframe tbody tr th {\n",
       "        vertical-align: top;\n",
       "    }\n",
       "\n",
       "    .dataframe thead th {\n",
       "        text-align: right;\n",
       "    }\n",
       "</style>\n",
       "<table border=\"1\" class=\"dataframe\">\n",
       "  <thead>\n",
       "    <tr style=\"text-align: right;\">\n",
       "      <th></th>\n",
       "      <th>Review</th>\n",
       "      <th>Label</th>\n",
       "      <th>word_count</th>\n",
       "    </tr>\n",
       "  </thead>\n",
       "  <tbody>\n",
       "    <tr>\n",
       "      <th>0</th>\n",
       "      <td>The Rock is destined to be the 21st Century 's...</td>\n",
       "      <td>1</td>\n",
       "      <td>36</td>\n",
       "    </tr>\n",
       "    <tr>\n",
       "      <th>1</th>\n",
       "      <td>The gorgeously elaborate continuation of `` Th...</td>\n",
       "      <td>1</td>\n",
       "      <td>37</td>\n",
       "    </tr>\n",
       "    <tr>\n",
       "      <th>2</th>\n",
       "      <td>Singer\\/composer Bryan Adams contributes a sle...</td>\n",
       "      <td>1</td>\n",
       "      <td>39</td>\n",
       "    </tr>\n",
       "    <tr>\n",
       "      <th>3</th>\n",
       "      <td>You 'd think by now America would have had eno...</td>\n",
       "      <td>0</td>\n",
       "      <td>19</td>\n",
       "    </tr>\n",
       "    <tr>\n",
       "      <th>4</th>\n",
       "      <td>Yet the act is still charming here .</td>\n",
       "      <td>1</td>\n",
       "      <td>8</td>\n",
       "    </tr>\n",
       "  </tbody>\n",
       "</table>\n",
       "</div>"
      ],
      "text/plain": [
       "                                              Review  Label  word_count\n",
       "0  The Rock is destined to be the 21st Century 's...      1          36\n",
       "1  The gorgeously elaborate continuation of `` Th...      1          37\n",
       "2  Singer\\/composer Bryan Adams contributes a sle...      1          39\n",
       "3  You 'd think by now America would have had eno...      0          19\n",
       "4               Yet the act is still charming here .      1           8"
      ]
     },
     "execution_count": 72,
     "metadata": {},
     "output_type": "execute_result"
    }
   ],
   "source": [
    "# 2. What is the length of the reviews by each classes? \n",
    "# get the number of words in each review \n",
    "word_count = df.Review.str.split().str.len()\n",
    "df['word_count'] = word_count\n",
    "df.head(5)"
   ]
  },
  {
   "cell_type": "code",
   "execution_count": 73,
   "metadata": {},
   "outputs": [
    {
     "data": {
      "text/plain": [
       "<BarContainer object of 3 artists>"
      ]
     },
     "execution_count": 73,
     "metadata": {},
     "output_type": "execute_result"
    },
    {
     "data": {
      "image/png": "[encoded data removed]",
      "text/plain": [
       "<Figure size 432x288 with 1 Axes>"
      ]
     },
     "metadata": {
      "needs_background": "light"
     },
     "output_type": "display_data"
    }
   ],
   "source": [
    "# Now get the average number of word count by classes \n",
    "average_word_nbr = df.groupby(['Label'])['word_count'].mean()\n",
    " \n",
    "# creating the bar plot\n",
    "plt.bar([\"-1\",\"0\",\"1\"], average_word_nbr, color=colors)"
   ]
  },
  {
   "cell_type": "markdown",
   "metadata": {},
   "source": [
    "The average number of words in the reviews are very close for each class. \n",
    "\n",
    "For the next question, about finding the adjectives, I use nltk library to first tokenize the reviews than to tag them."
   ]
  },
  {
   "cell_type": "code",
   "execution_count": 74,
   "metadata": {},
   "outputs": [
    {
     "name": "stderr",
     "output_type": "stream",
     "text": [
      "[nltk_data] Downloading package averaged_perceptron_tagger to\n",
      "[nltk_data]     /Users/mignon/nltk_data...\n",
      "[nltk_data]   Package averaged_perceptron_tagger is already up-to-\n",
      "[nltk_data]       date!\n"
     ]
    },
    {
     "data": {
      "text/plain": [
       "True"
      ]
     },
     "execution_count": 74,
     "metadata": {},
     "output_type": "execute_result"
    }
   ],
   "source": [
    "# 3. What is the most frequent adjectives in the reviews by the classes?\n",
    "import nltk\n",
    "nltk.download('averaged_perceptron_tagger')"
   ]
  },
  {
   "cell_type": "code",
   "execution_count": 139,
   "metadata": {},
   "outputs": [
    {
     "data": {
      "text/plain": [
       "[('And', 'CC'),\n",
       " ('now', 'RB'),\n",
       " ('for', 'IN'),\n",
       " ('something', 'NN'),\n",
       " ('completely', 'RB'),\n",
       " ('different', 'JJ'),\n",
       " ('is', 'VBZ'),\n",
       " ('not', 'RB'),\n",
       " ('coming', 'VBG')]"
      ]
     },
     "execution_count": 139,
     "metadata": {},
     "output_type": "execute_result"
    }
   ],
   "source": [
    "from nltk.tokenize import word_tokenize\n",
    "text = word_tokenize(\"And now for something completely different is not coming\")\n",
    "nltk.pos_tag(text)"
   ]
  },
  {
   "cell_type": "code",
   "execution_count": 115,
   "metadata": {},
   "outputs": [
    {
     "data": {
      "text/html": [
       "<div>\n",
       "<style scoped>\n",
       "    .dataframe tbody tr th:only-of-type {\n",
       "        vertical-align: middle;\n",
       "    }\n",
       "\n",
       "    .dataframe tbody tr th {\n",
       "        vertical-align: top;\n",
       "    }\n",
       "\n",
       "    .dataframe thead th {\n",
       "        text-align: right;\n",
       "    }\n",
       "</style>\n",
       "<table border=\"1\" class=\"dataframe\">\n",
       "  <thead>\n",
       "    <tr style=\"text-align: right;\">\n",
       "      <th></th>\n",
       "      <th>Review</th>\n",
       "      <th>Label</th>\n",
       "      <th>word_count</th>\n",
       "      <th>tags</th>\n",
       "    </tr>\n",
       "  </thead>\n",
       "  <tbody>\n",
       "    <tr>\n",
       "      <th>0</th>\n",
       "      <td>The Rock is destined to be the 21st Century 's...</td>\n",
       "      <td>1</td>\n",
       "      <td>36</td>\n",
       "      <td>[(the, DT), (rock, NN), (is, VBZ), (destined, ...</td>\n",
       "    </tr>\n",
       "    <tr>\n",
       "      <th>1</th>\n",
       "      <td>The gorgeously elaborate continuation of `` Th...</td>\n",
       "      <td>1</td>\n",
       "      <td>37</td>\n",
       "      <td>[(the, DT), (gorgeously, RB), (elaborate, JJ),...</td>\n",
       "    </tr>\n",
       "    <tr>\n",
       "      <th>2</th>\n",
       "      <td>Singer\\/composer Bryan Adams contributes a sle...</td>\n",
       "      <td>1</td>\n",
       "      <td>39</td>\n",
       "      <td>[(singer\\/composer, NN), (bryan, NN), (adams, ...</td>\n",
       "    </tr>\n",
       "    <tr>\n",
       "      <th>3</th>\n",
       "      <td>You 'd think by now America would have had eno...</td>\n",
       "      <td>0</td>\n",
       "      <td>19</td>\n",
       "      <td>[(you, PRP), ('d, MD), (think, VB), (by, IN), ...</td>\n",
       "    </tr>\n",
       "    <tr>\n",
       "      <th>4</th>\n",
       "      <td>Yet the act is still charming here .</td>\n",
       "      <td>1</td>\n",
       "      <td>8</td>\n",
       "      <td>[(yet, RB), (the, DT), (act, NN), (is, VBZ), (...</td>\n",
       "    </tr>\n",
       "  </tbody>\n",
       "</table>\n",
       "</div>"
      ],
      "text/plain": [
       "                                              Review  Label  word_count  \\\n",
       "0  The Rock is destined to be the 21st Century 's...      1          36   \n",
       "1  The gorgeously elaborate continuation of `` Th...      1          37   \n",
       "2  Singer\\/composer Bryan Adams contributes a sle...      1          39   \n",
       "3  You 'd think by now America would have had eno...      0          19   \n",
       "4               Yet the act is still charming here .      1           8   \n",
       "\n",
       "                                                tags  \n",
       "0  [(the, DT), (rock, NN), (is, VBZ), (destined, ...  \n",
       "1  [(the, DT), (gorgeously, RB), (elaborate, JJ),...  \n",
       "2  [(singer\\/composer, NN), (bryan, NN), (adams, ...  \n",
       "3  [(you, PRP), ('d, MD), (think, VB), (by, IN), ...  \n",
       "4  [(yet, RB), (the, DT), (act, NN), (is, VBZ), (...  "
      ]
     },
     "execution_count": 115,
     "metadata": {},
     "output_type": "execute_result"
    }
   ],
   "source": [
    "df['tags'] = df.Review.apply(lambda x: nltk.pos_tag(word_tokenize(x.lower())))\n",
    "df.head()"
   ]
  },
  {
   "cell_type": "code",
   "execution_count": 116,
   "metadata": {},
   "outputs": [
    {
     "name": "stdout",
     "output_type": "stream",
     "text": [
      "The keys are the index numbers \n",
      "Each example contains:  dict_keys(['Review', 'Label', 'word_count', 'tags'])\n"
     ]
    }
   ],
   "source": [
    "# transform dataframe into a dictionary \n",
    "df_dict = df.to_dict('index')\n",
    "print(\"The keys are the index numbers \")\n",
    "print(\"Each example contains: \", df_dict[0].keys())"
   ]
  },
  {
   "cell_type": "code",
   "execution_count": 117,
   "metadata": {},
   "outputs": [],
   "source": [
    "from collections import Counter"
   ]
  },
  {
   "cell_type": "code",
   "execution_count": 127,
   "metadata": {},
   "outputs": [
    {
     "name": "stderr",
     "output_type": "stream",
     "text": [
      "[nltk_data] Downloading package stopwords to\n",
      "[nltk_data]     /Users/mignon/nltk_data...\n",
      "[nltk_data]   Unzipping corpora/stopwords.zip.\n"
     ]
    },
    {
     "data": {
      "text/plain": [
       "True"
      ]
     },
     "execution_count": 127,
     "metadata": {},
     "output_type": "execute_result"
    }
   ],
   "source": [
    "import nltk\n",
    "nltk.download('stopwords')"
   ]
  },
  {
   "cell_type": "code",
   "execution_count": 130,
   "metadata": {},
   "outputs": [],
   "source": [
    "from nltk.corpus import stopwords\n",
    "\n",
    "stop_words = set(stopwords.words('english'))"
   ]
  },
  {
   "cell_type": "code",
   "execution_count": 132,
   "metadata": {},
   "outputs": [
    {
     "name": "stdout",
     "output_type": "stream",
     "text": [
      "Number of tags in classes (0,1,-1) (1853,4054,3738)\n"
     ]
    }
   ],
   "source": [
    "# collect tags of each class \n",
    "class_tags = {0:[],1:[],-1:[]}\n",
    "for k,v in df_dict.items():\n",
    "    class_tags[v[\"Label\"]].append(v['tags'])\n",
    "print(\"Number of tags in classes (0,1,-1) (%d,%d,%d)\"%(len(class_tags[0]),len(class_tags[1]),len(class_tags[-1])))"
   ]
  },
  {
   "cell_type": "code",
   "execution_count": 133,
   "metadata": {},
   "outputs": [],
   "source": [
    "# flatten each list to get the counts of each word \n",
    "# filter to choose only adjactives \n",
    "# count the tag-word pairs in each class\n",
    "adjectives = [\"JJ\",\"JJS\",\"JJR\"]\n",
    "class_tags[0] = Counter([x for s in class_tags[0] for x in s if (x[1] in adjectives and not(x[0] in stop_words))])\n",
    "class_tags[1] = Counter([x for s in class_tags[1] for x in s if x[1] in adjectives and not(x[0] in stop_words)])\n",
    "class_tags[-1] = Counter([x for s in class_tags[-1] for x in s if x[1] in adjectives and  not(x[0] in stop_words)])"
   ]
  },
  {
   "cell_type": "code",
   "execution_count": 134,
   "metadata": {},
   "outputs": [
    {
     "name": "stdout",
     "output_type": "stream",
     "text": [
      "Most common adjectives in positive class : \n",
      "[(('good', 'JJ'), 154), (('funny', 'JJ'), 119), (('best', 'JJS'), 117), (('little', 'JJ'), 90), (('new', 'JJ'), 80), (('great', 'JJ'), 75), (('many', 'JJ'), 59), (('big', 'JJ'), 58), (('human', 'JJ'), 57), (('real', 'JJ'), 57)]\n",
      "Most common adjectives in negative class : \n",
      "[(('bad', 'JJ'), 152), (('much', 'JJ'), 93), (('good', 'JJ'), 91), (('little', 'JJ'), 89), (('new', 'JJ'), 60), (('many', 'JJ'), 57), (('funny', 'JJ'), 51), (('big', 'JJ'), 48), (('hard', 'JJ'), 46), (('better', 'JJR'), 43)]\n",
      "Most common adjectives in neutral class : \n",
      "[(('good', 'JJ'), 58), (('much', 'JJ'), 39), (('little', 'JJ'), 38), (('funny', 'JJ'), 36), (('many', 'JJ'), 33), (('new', 'JJ'), 30), (('best', 'JJS'), 28), (('big', 'JJ'), 25), (('old', 'JJ'), 22), (('first', 'JJ'), 21)]\n"
     ]
    }
   ],
   "source": [
    "print(\"Most common adjectives in positive class : \")\n",
    "print(class_tags[1].most_common(10))\n",
    "print(\"Most common adjectives in negative class : \")\n",
    "print(class_tags[-1].most_common(10))\n",
    "print(\"Most common adjectives in neutral class : \")\n",
    "print(class_tags[0].most_common(10))"
   ]
  },
  {
   "cell_type": "markdown",
   "metadata": {},
   "source": [
    "I don't see much differences just looking the adjective. The reason may be the negation. I can now check the verbs."
   ]
  },
  {
   "cell_type": "code",
   "execution_count": 135,
   "metadata": {},
   "outputs": [
    {
     "name": "stdout",
     "output_type": "stream",
     "text": [
      "Number of tags in classes (0,1,-1) (1853,4054,3738)\n"
     ]
    }
   ],
   "source": [
    "# collect tags of each class \n",
    "class_tags = {0:[],1:[],-1:[]}\n",
    "for k,v in df_dict.items():\n",
    "    class_tags[v[\"Label\"]].append(v['tags'])\n",
    "print(\"Number of tags in classes (0,1,-1) (%d,%d,%d)\"%(len(class_tags[0]),len(class_tags[1]),len(class_tags[-1])))"
   ]
  },
  {
   "cell_type": "code",
   "execution_count": 137,
   "metadata": {},
   "outputs": [],
   "source": [
    "# flatten each list to get the counts of each word \n",
    "# filter to choose only verbs \n",
    "# count the tag-word pairs in each class\n",
    "verbs = [\"VB\"]\n",
    "class_tags[0] = Counter([x for s in class_tags[0] for x in s if x[1].startswith(\"VB\") and not(x[0] in stop_words)])\n",
    "class_tags[1] = Counter([x for s in class_tags[1] for x in s if x[1].startswith(\"VB\") and not(x[0] in stop_words)])\n",
    "class_tags[-1] = Counter([x for s in class_tags[-1] for x in s if x[1].startswith(\"VB\") and not(x[0] in stop_words)])"
   ]
  },
  {
   "cell_type": "code",
   "execution_count": 138,
   "metadata": {},
   "outputs": [
    {
     "name": "stdout",
     "output_type": "stream",
     "text": [
      "Most common adjectives in positive class : \n",
      "[((\"'s\", 'VBZ'), 562), (('makes', 'VBZ'), 105), (('make', 'VB'), 60), ((\"'re\", 'VBP'), 50), (('see', 'VB'), 50), (('seen', 'VBN'), 44), (('gives', 'VBZ'), 43), ((\"'ve\", 'VBP'), 42), (('make', 'VBP'), 40), (('takes', 'VBZ'), 39), (('keep', 'VB'), 39), (('made', 'VBN'), 38), (('works', 'VBZ'), 37), (('moving', 'VBG'), 37), (('take', 'VB'), 36), (('watch', 'VB'), 33), (('watching', 'VBG'), 33), (('seems', 'VBZ'), 33), (('get', 'VB'), 32), (('gets', 'VBZ'), 31)]\n",
      "Most common adjectives in negative class : \n",
      "[((\"'s\", 'VBZ'), 553), (('make', 'VB'), 73), (('seems', 'VBZ'), 67), (('makes', 'VBZ'), 63), ((\"'re\", 'VBP'), 57), (('comes', 'VBZ'), 50), ((\"'ve\", 'VBP'), 46), (('watching', 'VBG'), 45), (('made', 'VBN'), 43), (('get', 'VB'), 42), (('see', 'VB'), 40), (('going', 'VBG'), 33), (('feel', 'VB'), 31), (('gets', 'VBZ'), 31), (('seem', 'VBP'), 31), (('trying', 'VBG'), 30), (('goes', 'VBZ'), 29), (('takes', 'VBZ'), 29), (('find', 'VB'), 29), (('go', 'VB'), 28)]\n",
      "Most common adjectives in neutral class : \n",
      "[((\"'s\", 'VBZ'), 274), (('make', 'VB'), 36), (('made', 'VBN'), 35), (('makes', 'VBZ'), 33), ((\"'re\", 'VBP'), 30), (('see', 'VB'), 24), (('get', 'VB'), 22), (('comes', 'VBZ'), 20), (('gets', 'VBZ'), 20), (('find', 'VB'), 18), (('seen', 'VBN'), 18), (('go', 'VB'), 18), ((\"'ve\", 'VBP'), 15), (('look', 'VB'), 15), (('takes', 'VBZ'), 13), (('watch', 'VB'), 13), (('seems', 'VBZ'), 13), (('want', 'VB'), 13), (('want', 'VBP'), 12), (('give', 'VB'), 12)]\n"
     ]
    }
   ],
   "source": [
    "print(\"Most common adjectives in positive class : \")\n",
    "print(class_tags[1].most_common(20))\n",
    "print(\"Most common adjectives in negative class : \")\n",
    "print(class_tags[-1].most_common(20))\n",
    "print(\"Most common adjectives in neutral class : \")\n",
    "print(class_tags[0].most_common(20))"
   ]
  },
  {
   "cell_type": "markdown",
   "metadata": {},
   "source": [
    "# Build a Rule-based Sentiment Classifier\n",
    "\n",
    "This is a notebook for [CMU CS11-711 Advanced NLP](http://phontron.com/class/anlp2021/), in which you can attempt to build a rule-based sentiment classifier. It will take in a text `X` and return a `label` of \"1\" if the sentiment of the text is positive, \"-1\" if the sentiment of the text is negative, and \"0\" if the sentiment of the text is neutral. You can test the accuracy of your classifier on the [Stanford Sentiment Treebank](http://nlp.stanford.edu/sentiment/index.html) by running the notebook all the way to end.\n",
    "\n",
    "The only thing that you should change in this notebook is the following cell which contains two important elements. The first is `extract_features(X)`, which will extract a dictionary of (named) feature values from the text. You should create this by hand, and a simple example is shown for you. The second is `feature_weights`, a dictionary which will assign a weight to each extracted feature.\n",
    "\n",
    "The final way the classifier decides whether to assign a positive, negative, or neutral label is by calculating the dot product `feature_weights * extract_features(X)`, and if the value is greater than zero, return 1, less than zero return -1, and if exactly zero return 0.\n",
    "\n",
    "Let's have some fun trying to design a classifier 😁"
   ]
  },
  {
   "cell_type": "code",
   "execution_count": 36,
   "metadata": {},
   "outputs": [],
   "source": [
    "def extract_features(X):\n",
    "    features = {}\n",
    "    X_split = X.split(' ')\n",
    "    \n",
    "    # Count the number of \"good words\" and \"bad words\" in the text\n",
    "    good_words = ['love', 'good']\n",
    "    bad_words = ['hate', 'bad']\n",
    "    for x in good_words: \n",
    "        if x in X: \n",
    "            features['good_word_count'] = features.get('good_word_count', 0) + 1\n",
    "    for x in bad_words: \n",
    "        if x in X: \n",
    "            features['bad_word_count'] = features.get('good_word_count', 0) + 1\n",
    "\n",
    "    # The \"bias\" value is always one, to allow us to assign a \"default\" score to the text\n",
    "    features['bias'] = 1\n",
    "    \n",
    "    return features\n",
    "\n",
    "feature_weights = {'good_word_count': 1.0, 'bad_word_count': -1.0, 'bias': 0.5}"
   ]
  },
  {
   "cell_type": "markdown",
   "metadata": {},
   "source": [
    "## Data Reading\n",
    "\n",
    "Read in the data from the training and dev (or finally test) sets"
   ]
  },
  {
   "cell_type": "code",
   "execution_count": 37,
   "metadata": {},
   "outputs": [],
   "source": [
    "def read_XY_data(filename):\n",
    "    X_data = []\n",
    "    Y_data = []\n",
    "    with open(filename, 'r') as f:\n",
    "        for line in f:\n",
    "            label, text = line.strip().split(' ||| ')\n",
    "            X_data.append(text)\n",
    "            Y_data.append(int(label))\n",
    "    return X_data, Y_data"
   ]
  },
  {
   "cell_type": "code",
   "execution_count": 38,
   "metadata": {},
   "outputs": [],
   "source": [
    "X_train, Y_train = read_XY_data('data/sst-sentiment-text-threeclass/train.txt')\n",
    "X_test, Y_test = read_XY_data('data/sst-sentiment-text-threeclass/dev.txt')"
   ]
  },
  {
   "cell_type": "code",
   "execution_count": 39,
   "metadata": {
    "scrolled": true
   },
   "outputs": [
    {
     "name": "stdout",
     "output_type": "stream",
     "text": [
      "The Rock is destined to be the 21st Century 's new `` Conan '' and that he 's going to make a splash even greater than Arnold Schwarzenegger , Jean-Claud Van Damme or Steven Segal .\n",
      "1\n"
     ]
    }
   ],
   "source": [
    "print(X_train[0])\n",
    "print(Y_train[0])"
   ]
  },
  {
   "cell_type": "markdown",
   "metadata": {},
   "source": [
    "## Run the Classifier and Calculate Accuracy\n",
    "\n",
    "Run the classifier over the training and dev (test) sets and calculate accuracy"
   ]
  },
  {
   "cell_type": "code",
   "execution_count": 40,
   "metadata": {},
   "outputs": [],
   "source": [
    "def run_classifier(X):\n",
    "    score = 0\n",
    "    for feat_name, feat_value in extract_features(X).items():\n",
    "        score = score + feat_value * feature_weights.get(feat_name, 0)\n",
    "    if score > 0:\n",
    "        return 1\n",
    "    elif score < 0:\n",
    "        return -1\n",
    "    else:\n",
    "        return 0"
   ]
  },
  {
   "cell_type": "code",
   "execution_count": 41,
   "metadata": {},
   "outputs": [],
   "source": [
    "def calculate_accuracy(X_data, Y_data):\n",
    "    total_number = 0\n",
    "    correct_number = 0\n",
    "    for X, Y in zip(X_data, Y_data):\n",
    "        Y_pred = run_classifier(X)\n",
    "        total_number += 1\n",
    "        if Y == Y_pred:\n",
    "            correct_number += 1\n",
    "    return correct_number / float(total_number)"
   ]
  },
  {
   "cell_type": "code",
   "execution_count": 42,
   "metadata": {},
   "outputs": [
    {
     "name": "stdout",
     "output_type": "stream",
     "text": [
      "Train accuracy: 0.43551029962546817\n",
      "Dev/test accuracy: 0.4196185286103542\n"
     ]
    }
   ],
   "source": [
    "train_accuracy = calculate_accuracy(X_train, Y_train)\n",
    "test_accuracy = calculate_accuracy(X_test, Y_test)\n",
    "print(f'Train accuracy: {train_accuracy}')\n",
    "print(f'Dev/test accuracy: {test_accuracy}')"
   ]
  },
  {
   "cell_type": "markdown",
   "metadata": {},
   "source": [
    "## Error Analysis\n",
    "\n",
    "An important part of improving any system is figuring out where it goes wrong. The following two functions allow you to randomly observe some mistaken examples, which may help you improve the classifier. Feel free to write more sophisticated methods for error analysis as well."
   ]
  },
  {
   "cell_type": "code",
   "execution_count": 43,
   "metadata": {},
   "outputs": [],
   "source": [
    "import random\n",
    "def find_errors(X_data, Y_data):\n",
    "    error_ids = []\n",
    "    Y_preds = []\n",
    "    for i, (X, Y) in enumerate(zip(X_data, Y_data)):\n",
    "        Y_preds.append(run_classifier(X))\n",
    "        if Y != Y_preds[-1]:\n",
    "            error_ids.append(i)\n",
    "    for _ in range(5):\n",
    "        my_id = random.choice(error_ids)\n",
    "        X, Y, Y_pred = X_data[my_id], Y_data[my_id], Y_preds[my_id]\n",
    "        print(f'{X}\\ntrue label: {Y}\\npredicted label: {Y_pred}\\n')"
   ]
  },
  {
   "cell_type": "code",
   "execution_count": 44,
   "metadata": {},
   "outputs": [
    {
     "name": "stdout",
     "output_type": "stream",
     "text": [
      "Every visual joke is milked , every set-up obvious and lengthy , every punchline predictable .\n",
      "true label: -1\n",
      "predicted label: 1\n",
      "\n",
      "But here 's a movie about it anyway .\n",
      "true label: -1\n",
      "predicted label: 1\n",
      "\n",
      "Dark and disturbing , yet compelling to watch .\n",
      "true label: 0\n",
      "predicted label: 1\n",
      "\n",
      "Lucky Break is perfectly inoffensive and harmless , but it 's also drab and inert .\n",
      "true label: 0\n",
      "predicted label: 1\n",
      "\n",
      "Master of Disguise runs for only 71 minutes and feels like three hours .\n",
      "true label: -1\n",
      "predicted label: 1\n",
      "\n"
     ]
    }
   ],
   "source": [
    "find_errors(X_train, Y_train)"
   ]
  },
  {
   "cell_type": "markdown",
   "metadata": {},
   "source": [
    "# How to improve the results? \n",
    "\n",
    "* I can get a dictionary from training data to assign as good and bad words. \n",
    "* Using n-grams to score the negative, positive words \n",
    "* Using stemming \n",
    "\n",
    "\n",
    "\n",
    "I have already examined the data and the vocabulary. I can first expand the bad and good vocabulary in the feature extraction."
   ]
  },
  {
   "cell_type": "code",
   "execution_count": 45,
   "metadata": {},
   "outputs": [],
   "source": [
    "def extract_features(X):\n",
    "    features = {}\n",
    "    X_split = X.split(' ')\n",
    "    \n",
    "    # Count the number of \"good words\" and \"bad words\" in the text\n",
    "    good_words = ['love','entertaining', 'real', 'new', 'great', 'best', 'funny', 'good']\n",
    "    bad_words = ['dull', 'worst', 'hard', 'bad']\n",
    "    for x in good_words: \n",
    "        if x in X: \n",
    "            features['good_word_count'] = features.get('good_word_count', 0) + 1\n",
    "    for x in bad_words: \n",
    "        if x in X: \n",
    "            features['bad_word_count'] = features.get('good_word_count', 0) + 1\n",
    "\n",
    "    # The \"bias\" value is always one, to allow us to assign a \"default\" score to the text\n",
    "    features['bias'] = 1\n",
    "    \n",
    "    return features\n",
    "\n",
    "feature_weights = {'good_word_count': 1.0, 'bad_word_count': -1.0, 'bias': 0.5}"
   ]
  },
  {
   "cell_type": "code",
   "execution_count": 46,
   "metadata": {},
   "outputs": [
    {
     "name": "stdout",
     "output_type": "stream",
     "text": [
      "Train accuracy: 0.44592696629213485\n",
      "Dev/test accuracy: 0.4305177111716621\n"
     ]
    }
   ],
   "source": [
    "train_accuracy = calculate_accuracy(X_train, Y_train)\n",
    "test_accuracy = calculate_accuracy(X_test, Y_test)\n",
    "print(f'Train accuracy: {train_accuracy}')\n",
    "print(f'Dev/test accuracy: {test_accuracy}')"
   ]
  }
 ],
 "metadata": {
  "kernelspec": {
   "display_name": "Python 3 (ipykernel)",
   "language": "python",
   "name": "python3"
  },
  "language_info": {
   "codemirror_mode": {
    "name": "ipython",
    "version": 3
   },
   "file_extension": ".py",
   "mimetype": "text/x-python",
   "name": "python",
   "nbconvert_exporter": "python",
   "pygments_lexer": "ipython3",
   "version": "3.9.13"
  }
 },
 "nbformat": 4,
 "nbformat_minor": 2
}
